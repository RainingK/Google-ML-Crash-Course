{
 "cells": [
  {
   "cell_type": "markdown",
   "metadata": {},
   "source": [
    "# Key ML Terminology\n",
    "\n",
    "## Labels\n",
    "Labels are what we are predicting. What the output would be.\n",
    "\n",
    "## Features\n",
    "A feature is the input variable used to predit the output.\n",
    "\n",
    "## Examples\n",
    "There are 2 types of examples\n",
    "\n",
    "### Labeled examples\n",
    "A labeled example would be individual emails that users have explicitly marked as spam or not spam\n",
    "\n",
    "### Unlabeled examples\n",
    "Unlabeled examples contain the feature not the label. In other words, they contain the input but don't contain the output.\n",
    "\n",
    "## Models\n",
    "A Model defines the relationship between features & Labels. There are 2 phases of a models life.\n",
    "\n",
    "### Training\n",
    "Meaning creating or learning the model\n",
    "\n",
    "### Inference\n",
    "Meaning applying the trained model to unlabeled examples.\n",
    "\n",
    "## Regression vs. Classification\n",
    "### Regression\n",
    "A regression model predicts continous values. For example, regression models make predictions that answer questions like the following:\n",
    "* What is the value of a house in California?\n",
    "* What is the probability that a user will click on this ad?\n",
    "\n",
    "### Classification\n",
    "A classification model predicts discrete values. For example, classification models make predictions that answer questions like the following:\n",
    "* Is a given email message a spam or not spam?\n",
    "* Is this an image of a dog, a cat, or a hamster?"
   ]
  }
 ],
 "metadata": {
  "kernelspec": {
   "display_name": "Python 3.8.3 ('venv': venv)",
   "language": "python",
   "name": "python3"
  },
  "language_info": {
   "codemirror_mode": {
    "name": "ipython",
    "version": 3
   },
   "file_extension": ".py",
   "mimetype": "text/x-python",
   "name": "python",
   "nbconvert_exporter": "python",
   "pygments_lexer": "ipython3",
   "version": "3.8.3"
  },
  "orig_nbformat": 4,
  "vscode": {
   "interpreter": {
    "hash": "2fabf7593ccb2784a7f08653d7fe2c34623df00277caf694a484c7ed036489b6"
   }
  }
 },
 "nbformat": 4,
 "nbformat_minor": 2
}
