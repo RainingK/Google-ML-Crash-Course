{
 "cells": [
  {
   "attachments": {},
   "cell_type": "markdown",
   "metadata": {},
   "source": [
    "# Representation: Qualities Of Good Features\n",
    "## Avoid rarely used discrete feature values\n",
    "Good feature values should appear more than 5 or so times in a data set. Doing so enables a model to learn how this feature value relates to the label. That is, having many examples with the same discrete value gives the model a chance to see the feature in different settings, and in turn, determine when it's a good predictor for the label. For example, a house_type feature would likely contain many examples in which its value was victorian:\n",
    "\n",
    "`house_type: victorian`\n",
    "\n",
    "Conversely, if a feature's value appears only once or very rarely, the model can't make predictions based on that feature. For example, unique_house_id is a bad feature because each value would be used only once, so the model couldn't learn anything from it:\n",
    "\n",
    "`unique_house_id: 8SK982ZZ1242Z`\n",
    "\n",
    "## Prefer clear and obvious meanings\n",
    "Each feature should have a clear and obvious meaning to anyone on the project. For example, the following good feature is clearly named and the value makes sense with respect to the name:\n",
    "\n",
    "`house_age_years: 27`\n",
    "\n",
    "Conversely, the meaning of the following feature value is pretty much indecipherable to anyone but the engineer who created it:\n",
    "\n",
    "`house_age: 851472000`\n",
    "\n",
    "In some cases, noisy data (rather than bad engineering choices) causes unclear values. For example, the following user_age_years came from a source that didn't check for appropriate values:\n",
    "\n",
    "`user_age_years: 277`\n",
    "\n",
    "## Don't mix \"magic\" values with actual data\n",
    "Good floating-point features don't contain peculiar out-of-range discontinuities or \"magic\" values. For example, suppose a feature holds a floating-point value between 0 and 1. So, values like the following are fine:\n",
    "\n",
    "```\n",
    "quality_rating: 0.82\n",
    "quality_rating: 0.37\n",
    "```\n",
    "\n",
    "To explicitly mark magic values, create a Boolean feature that indicates whether or not a quality_rating was supplied. Give this Boolean feature a name like is_quality_rating_defined.\n",
    "\n",
    "In the original feature, replace the magic values as follows:\n",
    "\n",
    "* For variables that take a finite set of values (discrete variables), add a new value to the set and use it to signify that the feature value is missing.\n",
    "* For continuous variables, ensure missing values do not affect the model by using the mean value of the feature's data.\n",
    "\n",
    "## Account for upstream instability\n",
    "The definition of a feature shouldn't change over time. For example, the following value is useful because the city name probably won't change. (Note that we'll still need to convert a string like \"br/sao_paulo\" to a one-hot vector.)\n",
    "\n",
    "`city_id: \"br/sao_paulo\"`\n",
    "\n",
    "But gathering a value inferred by another model carries additional costs. Perhaps the value \"219\" currently represents Sao Paulo, but that representation could easily change on a future run of the other model:\n",
    "\n",
    "`inferred_city_cluster: \"219\"`"
   ]
  }
 ],
 "metadata": {
  "language_info": {
   "name": "python"
  },
  "orig_nbformat": 4
 },
 "nbformat": 4,
 "nbformat_minor": 2
}
