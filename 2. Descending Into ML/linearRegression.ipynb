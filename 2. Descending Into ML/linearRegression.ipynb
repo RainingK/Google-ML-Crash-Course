{
 "cells": [
  {
   "cell_type": "markdown",
   "metadata": {},
   "source": [
    "# Linear Regression\n",
    "\n",
    "The following image is of a graph displaying the numbers of chirps done by a cricket. Crickets usually chirp a lot more if the temperature is higher hence the upwards sloped graph. And a line drawn in between to have a visual representation of the accuracy of the graph.\n",
    "\n",
    "<img src=\"../Images/Linear Regression - Cricket Chirps Graph.png\" alt=\"Cricket Chirps Graph\" width=\"700\"/>\n",
    "\n",
    "Formula for a line is y = mx + b\n",
    "* y - is the Y-Axis. In this example it's the temperature in celsius, the value that we're trying to predict.\n",
    "* m - is the slope of the line.\n",
    "* x - is the number of chirps per minute - the value of the input\n",
    "* b - is the y-intercept.\n",
    "\n",
    "For machine learning purposes, the formula will be a little different.  \n",
    "y = b + w<sub>1</sub>x<sub>1</sub>  \n",
    "* y - is the predicted label (a desired output)\n",
    "* b - is the bias (y-intercept), sometimes referred to as w<sub>0</sub>\n",
    "* w<sub>1</sub> - is the weigth of featere 1. Weight is the same concept is slope m in the traditional equation of a line\n",
    "* x<sub></sub> - is a feature (a known input)\n",
    "\n",
    "A more sophisticated model would rely on multiple features such as  \n",
    "y = b + w<sub>1</sub>x<sub>1</sub> + w<sub>2</sub>x<sub>2</sub> + w<sub>3</sub>x<sub>3</sub>"
   ]
  }
 ],
 "metadata": {
  "kernelspec": {
   "display_name": "Python 3.8.3 ('venv': venv)",
   "language": "python",
   "name": "python3"
  },
  "language_info": {
   "name": "python",
   "version": "3.8.3"
  },
  "orig_nbformat": 4,
  "vscode": {
   "interpreter": {
    "hash": "2fabf7593ccb2784a7f08653d7fe2c34623df00277caf694a484c7ed036489b6"
   }
  }
 },
 "nbformat": 4,
 "nbformat_minor": 2
}
