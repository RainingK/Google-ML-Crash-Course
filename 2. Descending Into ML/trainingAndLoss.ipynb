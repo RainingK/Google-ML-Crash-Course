{
 "cells": [
  {
   "cell_type": "markdown",
   "metadata": {},
   "source": [
    "# Training And Loss"
   ]
  }
 ],
 "metadata": {
  "kernelspec": {
   "display_name": "Python 3.8.3 ('venv': venv)",
   "language": "python",
   "name": "python3"
  },
  "language_info": {
   "name": "python",
   "version": "3.8.3"
  },
  "orig_nbformat": 4,
  "vscode": {
   "interpreter": {
    "hash": "2fabf7593ccb2784a7f08653d7fe2c34623df00277caf694a484c7ed036489b6"
   }
  }
 },
 "nbformat": 4,
 "nbformat_minor": 2
}
