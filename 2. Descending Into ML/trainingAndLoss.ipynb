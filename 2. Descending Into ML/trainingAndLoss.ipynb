{
 "cells": [
  {
   "cell_type": "markdown",
   "metadata": {},
   "source": [
    "# Training and Loss\n",
    "\n",
    "Training a model simply means learning (determining) good values for all the weights and the bias from labeled examples.  \n",
    "In supervised learning, a machine learning algorithm builds a model by examining many examples and attempting to find a model that minimizes loss; this process is called **empirical risk minimization**.\n",
    "\n",
    "Loss is the penalty for a bad prediction. That is, loss is a number indicating how bad the model's prediction was on a single example. If the models prediction is perfect then the loss is 0; otherwise, the loss is greater.\n",
    "* The arrow represents loss.\n",
    "* The blue lines represents predictions.\n",
    "\n",
    "![Model Prediction and Loss](../Images/Linear%20Regression%20-%20Model%20Prediction%20And%20Loss.png)\n",
    "\n",
    "**High Loss** on the left vs. **Low Loss** on the right.  \n",
    "Notice that the arrows on the left are a lot longer than the ones on the right. Longer arrows indicates higher loss.\n",
    "\n",
    "## Squared loss: a popular loss function\n",
    "The linear regression models that we will examine here use a loss function called **squared loss** (also known as **L<sub>2</sub> Loss**). The squared loss of a single example is a follows:  \n",
    "<code>\n",
    "= the square of the difference between the label and the prediction  \n",
    "= (observation - prediction(x))<sup>2</sup>  \n",
    "= (y - y<sup>1</sup>)<sup>2</sup>  \n",
    "</code>\n",
    "\n",
    "**Mean Square Error (MSE)** is the average squared loss over the whole dataset. To calculate MSE, sum up all the squared losses for individual examples then divide them by the number of examples. Basically the **mean**.\n",
    "\n",
    "![Mean Squeare Error (MSE)](../Images/Linear%20Regression%20-%20Mean%20Square%20Error.png)  \n",
    "* (x, y) is an example in which\n",
    "    * x is the set of features that the model uses to make predictions\n",
    "    * y is the examples label\n",
    "* prediction(x) is a function of the weights and bias in combination with the sets of feature x\n",
    "* D is a dataset containing many labeled examples, which are (x, y) pairs\n",
    "* N is the number of examples in D"
   ]
  }
 ],
 "metadata": {
  "kernelspec": {
   "display_name": "Python 3.8.3 ('venv': venv)",
   "language": "python",
   "name": "python3"
  },
  "language_info": {
   "name": "python",
   "version": "3.8.3"
  },
  "orig_nbformat": 4,
  "vscode": {
   "interpreter": {
    "hash": "2fabf7593ccb2784a7f08653d7fe2c34623df00277caf694a484c7ed036489b6"
   }
  }
 },
 "nbformat": 4,
 "nbformat_minor": 2
}
