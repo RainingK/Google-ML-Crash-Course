{
 "cells": [
  {
   "cell_type": "markdown",
   "metadata": {},
   "source": [
    "# Validation Set: Another Partition\n",
    "The previous module introduced partitioning a data set into a training set and a test set. This partitioning enabled you to train on one set of examples and then to test the model against a different set of examples. With two partitions, the workflow could look as follows:\n",
    "\n",
    "<img src=\"../Images/Validation Set - 2 Sets.png\" alt=\"2 Sets\" width=\"500\"/>  \n",
    "\n",
    "In the figure, \"Tweak model\" means adjusting anything about the model you can dream up—from changing the learning rate, to adding or removing features, to designing a completely new model from scratch. At the end of this workflow, you pick the model that does best on the test set.\n",
    "\n",
    "Dividing the data set into two sets is a good idea, but not a panacea. You can greatly reduce your chances of overfitting by partitioning the data set into the three subsets shown in the following figure:\n",
    "\n",
    "<img src=\"../Images/Validation Set - 3 Sets.png\" alt=\"3 Sets\" width=\"500\"/>  \n",
    "\n",
    "Use the validation set to evaluate results from the training set. Then, use the test set to double-check your evaluation after the model has \"passed\" the validation set. The following figure shows this new workflow:\n",
    "\n",
    "<img src=\"../Images/Validation Set - 3 Sets Flow.png\" alt=\"3 Sets Flow\" width=\"500\"/>  \n",
    "\n",
    "In this improved workflow:\n",
    "\n",
    "Pick the model that does best on the validation set.\n",
    "* Double-check that model against the test set.\n",
    "* This is a better workflow because it creates fewer exposures to the test set.\n",
    "\n",
    "This is a better workflow because it creates fewer exposures to the test set."
   ]
  }
 ],
 "metadata": {
  "kernelspec": {
   "display_name": "Python 3.8.3 ('venv': venv)",
   "language": "python",
   "name": "python3"
  },
  "language_info": {
   "name": "python",
   "version": "3.8.3"
  },
  "orig_nbformat": 4,
  "vscode": {
   "interpreter": {
    "hash": "2fabf7593ccb2784a7f08653d7fe2c34623df00277caf694a484c7ed036489b6"
   }
  }
 },
 "nbformat": 4,
 "nbformat_minor": 2
}
