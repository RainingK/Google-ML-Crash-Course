{
 "cells": [
  {
   "cell_type": "markdown",
   "metadata": {},
   "source": [
    "# Key ML Terminology\n",
    "\n",
    "## Labels\n",
    "Labels are what we are predicting. What the output would be.\n",
    "\n",
    "## Features"
   ]
  }
 ],
 "metadata": {
  "kernelspec": {
   "display_name": "Python 3.10.0 ('venv': venv)",
   "language": "python",
   "name": "python3"
  },
  "language_info": {
   "codemirror_mode": {
    "name": "ipython",
    "version": 3
   },
   "file_extension": ".py",
   "mimetype": "text/x-python",
   "name": "python",
   "nbconvert_exporter": "python",
   "pygments_lexer": "ipython3",
   "version": "3.10.0"
  },
  "orig_nbformat": 4,
  "vscode": {
   "interpreter": {
    "hash": "8e47ab47c216e14d2e1266173bd70901ba856d09f7d8b177b50104fde78c8690"
   }
  }
 },
 "nbformat": 4,
 "nbformat_minor": 2
}
