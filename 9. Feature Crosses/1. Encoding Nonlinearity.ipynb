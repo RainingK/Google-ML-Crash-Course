{
 "cells": [
  {
   "attachments": {},
   "cell_type": "markdown",
   "metadata": {},
   "source": [
    "# Encoding Nonlinearity\n",
    "## In Figures 1 and 2, imagine the following:\n",
    "\n",
    "* The blue dots represent sick trees.\n",
    "* The orange dots represent healthy trees.\n",
    "\n",
    "<img src=\"../Images/Feature Crosses - Nonlinearity.png\" alt=\"Nonlinearity\" width=\"300\"/>\n",
    "\n",
    "Can you draw a line that neatly separates the sick trees from the healthy trees? Sure. This is a linear problem. The line won't be perfect. A sick tree or two might be on the \"healthy\" side, but your line will be a good predictor.\n",
    "\n",
    "Now look at the following figure:\n",
    "\n",
    "<img src=\"../Images/Feature Crosses - Encoding Nonlinearity.png\" alt=\"Encoding Nonlinearity\" width=\"300\"/>\n",
    "\n",
    "Can you draw a single straight line that neatly separates the sick trees from the healthy trees? No, you can't. This is a nonlinear problem. Any line you draw will be a poor predictor of tree health.\n",
    "\n",
    "<img src=\"../Images/Feature Crosses - Encoding Nonlinearity 2.png\" alt=\"Encoding Nonlinearity 2\" width=\"300\"/>\n",
    "\n",
    "To solve the nonlinear problem shown in Figure 2, create a feature cross. A feature cross is a synthetic feature that encodes nonlinearity in the feature space by multiplying two or more input features together. (The term cross comes from cross product.) Let's create a feature cross named x3 by crossing x2 and x1:\n",
    "\n",
    "x3 = x1x2\n",
    "\n",
    "We treat this newly minted x3 feature cross just like any other feature. The linear formula becomes:\n",
    "\n",
    "y = b + w1x1 + w2x2 + w3x3\n",
    "\n",
    "A linear algorithm can learn a weight for w3 just as it would for w1 and w3. In other words, although w3 encodes nonlinear information, you don’t need to change how the linear model trains to determine the value of w3.\n",
    "\n",
    "## Kinds of feature crosses\n",
    "We can create many different kinds of feature crosses. For example:\n",
    "\n",
    "* [A X B]: a feature cross formed by multiplying the values of two features.\n",
    "* [A x B x C x D x E]: a feature cross formed by multiplying the values of five features.\n",
    "* [A x A]: a feature cross formed by squaring a single feature.\n"
   ]
  }
 ],
 "metadata": {
  "language_info": {
   "name": "python"
  },
  "orig_nbformat": 4
 },
 "nbformat": 4,
 "nbformat_minor": 2
}
